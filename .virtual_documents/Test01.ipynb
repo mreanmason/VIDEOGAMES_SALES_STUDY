import pandas as pd
file_path = "res/vgsales.csv"






